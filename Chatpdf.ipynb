{
 "cells": [
  {
   "cell_type": "markdown",
   "metadata": {},
   "source": [
    "## We need to make an .env file which contains the api keys of langchain, url of langsmith and all."
   ]
  },
  {
   "cell_type": "code",
   "execution_count": 1,
   "metadata": {},
   "outputs": [
    {
     "data": {
      "text/plain": [
       "True"
      ]
     },
     "execution_count": 1,
     "metadata": {},
     "output_type": "execute_result"
    }
   ],
   "source": [
    "import os\n",
    "import warnings\n",
    "from dotenv import load_dotenv\n",
    "\n",
    "os.environ['KMP_DUPLICATE_LIB_OK'] = 'True'\n",
    "warnings.filterwarnings(\"ignore\")\n",
    "\n",
    "load_dotenv()"
   ]
  },
  {
   "cell_type": "markdown",
   "metadata": {},
   "source": [
    "### Loading the Documents\n",
    "os.walk returns three values so, we define it with root, dirs and files\n",
    "But the root goes through the available directories inside the mentioned path i.e., rag-dataset and then the files goes thorugh the file names\n",
    "So, we don't need to call root while joining the path"
   ]
  },
  {
   "cell_type": "code",
   "execution_count": 2,
   "metadata": {},
   "outputs": [],
   "source": [
    "pdfs = []\n",
    "\n",
    "for root, dirs, files in os.walk('rag-dataset'):\n",
    "    #print(root, dirs, files)\n",
    "    for file in files:\n",
    "        if file.endswith('.pdf'):\n",
    "            pdfs.append(os.path.join(root, file))"
   ]
  },
  {
   "cell_type": "code",
   "execution_count": 3,
   "metadata": {},
   "outputs": [
    {
     "data": {
      "text/plain": [
       "['rag-dataset\\\\gym supplements\\\\1. Analysis of Actual Fitness Supplement.pdf',\n",
       " 'rag-dataset\\\\gym supplements\\\\2. High Prevalence of Supplement Intake.pdf',\n",
       " 'rag-dataset\\\\health supplements\\\\1. dietary supplements - for whom.pdf',\n",
       " 'rag-dataset\\\\health supplements\\\\2. Nutraceuticals research.pdf',\n",
       " 'rag-dataset\\\\health supplements\\\\3.health_supplements_side_effects.pdf']"
      ]
     },
     "execution_count": 3,
     "metadata": {},
     "output_type": "execute_result"
    }
   ],
   "source": [
    "pdfs"
   ]
  },
  {
   "cell_type": "code",
   "execution_count": 4,
   "metadata": {},
   "outputs": [],
   "source": [
    "from langchain_community.document_loaders import PyMuPDFLoader\n",
    "\n",
    "docs = []\n",
    "for pdf in pdfs:\n",
    "    loader = PyMuPDFLoader(pdf)\n",
    "    pages = loader.load()\n",
    "    docs.extend(pages)"
   ]
  },
  {
   "cell_type": "code",
   "execution_count": 5,
   "metadata": {},
   "outputs": [
    {
     "data": {
      "text/plain": [
       "64"
      ]
     },
     "execution_count": 5,
     "metadata": {},
     "output_type": "execute_result"
    }
   ],
   "source": [
    "len(docs)"
   ]
  },
  {
   "cell_type": "markdown",
   "metadata": {},
   "source": [
    "### Chunking the extracted Documents\n",
    "\n",
    "Chunk overlap includes a small chunk of text from the previous chunk to the next chunk which helps to preserve the context"
   ]
  },
  {
   "cell_type": "code",
   "execution_count": 6,
   "metadata": {},
   "outputs": [],
   "source": [
    "from langchain.text_splitter import RecursiveCharacterTextSplitter\n",
    "\n",
    "text_splitter = RecursiveCharacterTextSplitter(chunk_size= 1000, chunk_overlap = 80)\n",
    "\n",
    "chunks = text_splitter.split_documents(docs)\n"
   ]
  },
  {
   "cell_type": "code",
   "execution_count": 7,
   "metadata": {},
   "outputs": [
    {
     "data": {
      "text/plain": [
       "301"
      ]
     },
     "execution_count": 7,
     "metadata": {},
     "output_type": "execute_result"
    }
   ],
   "source": [
    "len(chunks)"
   ]
  },
  {
   "cell_type": "code",
   "execution_count": 8,
   "metadata": {},
   "outputs": [
    {
     "data": {
      "text/plain": [
       "(969, 294)"
      ]
     },
     "execution_count": 8,
     "metadata": {},
     "output_type": "execute_result"
    }
   ],
   "source": [
    "import tiktoken\n",
    "\n",
    "encoding = tiktoken.encoding_for_model('gpt-4o-mini')\n",
    "\n",
    "len(encoding.encode(docs[0].page_content)), len(encoding.encode(chunks[0].page_content))"
   ]
  },
  {
   "cell_type": "markdown",
   "metadata": {},
   "source": [
    "## Vector Embeddings for Documents"
   ]
  },
  {
   "cell_type": "code",
   "execution_count": 9,
   "metadata": {},
   "outputs": [],
   "source": [
    "from langchain_ollama import OllamaEmbeddings\n",
    "import faiss\n",
    "from langchain_community.vectorstores import FAISS\n",
    "from langchain_community.docstore.in_memory import InMemoryDocstore"
   ]
  },
  {
   "cell_type": "code",
   "execution_count": 10,
   "metadata": {},
   "outputs": [],
   "source": [
    "embeddings = OllamaEmbeddings(model='nomic-embed-text', base_url=\"http://localhost:11434\")\n",
    "\n",
    "test_vector = embeddings.embed_query(\"I believe this query will also generate a fixed number of vectors which will define the dimensions\")"
   ]
  },
  {
   "cell_type": "code",
   "execution_count": 11,
   "metadata": {},
   "outputs": [
    {
     "data": {
      "text/plain": [
       "768"
      ]
     },
     "execution_count": 11,
     "metadata": {},
     "output_type": "execute_result"
    }
   ],
   "source": [
    "len(test_vector)"
   ]
  },
  {
   "cell_type": "code",
   "execution_count": 12,
   "metadata": {},
   "outputs": [
    {
     "data": {
      "text/plain": [
       "0"
      ]
     },
     "execution_count": 12,
     "metadata": {},
     "output_type": "execute_result"
    }
   ],
   "source": [
    "index = faiss.IndexFlatL2(len(test_vector))\n",
    "index.ntotal\n"
   ]
  },
  {
   "cell_type": "code",
   "execution_count": 13,
   "metadata": {},
   "outputs": [],
   "source": [
    "vector_store = FAISS(\n",
    "    embedding_function=embeddings,\n",
    "    index=index,\n",
    "    docstore=InMemoryDocstore(),\n",
    "    index_to_docstore_id={}\n",
    ")"
   ]
  },
  {
   "cell_type": "code",
   "execution_count": 14,
   "metadata": {},
   "outputs": [
    {
     "data": {
      "text/plain": [
       "(64, 301)"
      ]
     },
     "execution_count": 14,
     "metadata": {},
     "output_type": "execute_result"
    }
   ],
   "source": [
    "len(docs), len(chunks)"
   ]
  },
  {
   "cell_type": "code",
   "execution_count": 15,
   "metadata": {},
   "outputs": [],
   "source": [
    "ids = vector_store.add_documents(documents=chunks)"
   ]
  },
  {
   "cell_type": "code",
   "execution_count": 16,
   "metadata": {},
   "outputs": [
    {
     "name": "stdout",
     "output_type": "stream",
     "text": [
      "301\n"
     ]
    }
   ],
   "source": [
    "print(len(ids))"
   ]
  },
  {
   "cell_type": "markdown",
   "metadata": {},
   "source": [
    "## Similar Document Retrieval Process"
   ]
  },
  {
   "cell_type": "code",
   "execution_count": 17,
   "metadata": {},
   "outputs": [
    {
     "data": {
      "text/plain": [
       "[Document(metadata={'source': 'rag-dataset\\\\gym supplements\\\\1. Analysis of Actual Fitness Supplement.pdf', 'file_path': 'rag-dataset\\\\gym supplements\\\\1. Analysis of Actual Fitness Supplement.pdf', 'page': 0, 'total_pages': 15, 'format': 'PDF 1.7', 'title': '', 'author': '', 'subject': '', 'keywords': '', 'creator': '', 'producer': 'iLovePDF', 'creationDate': '', 'modDate': 'D:20241021113850Z', 'trapped': ''}, page_content='caffeine, which is found in many sports and food supplements. Caffeine reduces perceived\\neffort, minimizes fatigue and pain, and proves to be effective for endurance and high-\\nintensity activities, which is the choice of consumers [4].\\nCreatine monohydrate is another well-known supplement used to gain muscle mass\\nand support performance and recovery. It is known not to increase fat mass and remains\\neffective even when taken in recommended doses [5]. Despite its popularity in the fitness\\nFoods 2024, 13, 1424. https://doi.org/10.3390/foods13091424\\nhttps://www.mdpi.com/journal/foods'),\n",
       " Document(metadata={'source': 'rag-dataset\\\\health supplements\\\\3.health_supplements_side_effects.pdf', 'file_path': 'rag-dataset\\\\health supplements\\\\3.health_supplements_side_effects.pdf', 'page': 5, 'total_pages': 11, 'format': 'PDF 1.5', 'title': '', 'author': '', 'subject': '', 'keywords': '', 'creator': '', 'producer': 'iLovePDF', 'creationDate': '', 'modDate': 'D:20241021143742Z', 'trapped': ''}, page_content='market for weight-loss products, including dietary supplements. Among military service \\nmembers, athletes and bodybuilders it is also common to ingest dietary sports supplements \\nintended to burn fat and increase performance, muscle mass or strength. As examples, 53% \\nof active-duty US Army soldiers report using at least one dietary supplement per week (60), \\nand 64% of college students participating in athletics use dietary supplements to enhance \\nperformance (61). The supplements are often proprietary blends of several supposedly \\nnatural ingredients. They are not without risk of adverse effects. In a recent review, it is \\nestimated that the proportion of drug-induced liver injuries that are due to dietary \\nRonis et al.\\nPage 6\\nAnnu Rev Pharmacol Toxicol. Author manuscript; available in PMC 2019 February 19.\\nAuthor Manuscript\\nAuthor Manuscript\\nAuthor Manuscript\\nAuthor Manuscript'),\n",
       " Document(metadata={'source': 'rag-dataset\\\\gym supplements\\\\2. High Prevalence of Supplement Intake.pdf', 'file_path': 'rag-dataset\\\\gym supplements\\\\2. High Prevalence of Supplement Intake.pdf', 'page': 6, 'total_pages': 11, 'format': 'PDF 1.5', 'title': '', 'author': '', 'subject': '', 'keywords': '', 'creator': '', 'producer': 'iLovePDF', 'creationDate': '', 'modDate': 'D:20241021113904Z', 'trapped': ''}, page_content='Nutrients 2020, 12, 2595\\n7 of 13\\n \\n3.3. Training Goals \\nThe three most important training goals of the participating fitness center users were improving \\nhealth, improving strength, and body shaping (Figure 2). Analysis by age showed obvious age effects \\nfor two training goals. Improving health was named by 59%, 60%, 75%, and 89% as a training goal \\namong the four age groups beginning from the youngest to the oldest group. On the other hand, body \\nshaping was named by 69%, 55%, 41%, and 17% among the four age groups.  \\n \\nFigure 2. Training goals. g: Indicates significant gender effect (p < 0.05). Multiple answers were \\npossible. \\n3.4. Reasons for Supplement Intake \\nThe three most important reasons to take supplements were muscle building (49%), improving \\nhealth (47%), and improving sport-specific performance (28%) (Figure 3).  \\nFigure 2. Training goals. g: Indicates signiﬁcant gender eﬀect (p < 0.05). Multiple answers were possible.\\n3.4. Reasons for Supplement Intake'),\n",
       " Document(metadata={'source': 'rag-dataset\\\\gym supplements\\\\1. Analysis of Actual Fitness Supplement.pdf', 'file_path': 'rag-dataset\\\\gym supplements\\\\1. Analysis of Actual Fitness Supplement.pdf', 'page': 1, 'total_pages': 15, 'format': 'PDF 1.7', 'title': '', 'author': '', 'subject': '', 'keywords': '', 'creator': '', 'producer': 'iLovePDF', 'creationDate': '', 'modDate': 'D:20241021113850Z', 'trapped': ''}, page_content='Foods 2024, 13, 1424\\n2 of 21\\nand sports industry, evidence suggests that creatine can benefit not only athletes but also\\nthe elderly and the general population [6]. Branched-chain amino acids (BCAA) also offer\\na plethora of benefits for consumers. As explained by Sanz et al. [7], BCAAs are stored\\ndirectly in muscles and serve as the raw materials needed to build new muscle. This\\ncontributes to the overall process of strengthening muscles and alleviating post-workout\\nsoreness. Consumers often integrate these supplements into their routines with the aim of\\noptimizing the outcomes they wish to achieve and support overall well-being [1].\\nThe sports supplement industry makes for an impressive market share of nearly\\n$12 billion in the health/wellness portfolio and is projected to be worth $24.4 billion\\nby 2025. In a study by Burke [4], which investigated 20 published studies about the\\nprevalence, methods, and reasons for supplement consumption, it is evident from the')]"
      ]
     },
     "execution_count": 17,
     "metadata": {},
     "output_type": "execute_result"
    }
   ],
   "source": [
    "question = \"What is used to gain muscle mass?\"\n",
    "vector_store.search(query=question, search_type='similarity')"
   ]
  },
  {
   "cell_type": "code",
   "execution_count": 18,
   "metadata": {},
   "outputs": [
    {
     "name": "stdout",
     "output_type": "stream",
     "text": [
      "caffeine, which is found in many sports and food supplements. Caffeine reduces perceived\n",
      "effort, minimizes fatigue and pain, and proves to be effective for endurance and high-\n",
      "intensity activities, which is the choice of consumers [4].\n",
      "Creatine monohydrate is another well-known supplement used to gain muscle mass\n",
      "and support performance and recovery. It is known not to increase fat mass and remains\n",
      "effective even when taken in recommended doses [5]. Despite its popularity in the fitness\n",
      "Foods 2024, 13, 1424. https://doi.org/10.3390/foods13091424\n",
      "https://www.mdpi.com/journal/foods\n",
      "\n",
      "\n",
      "\n",
      "market for weight-loss products, including dietary supplements. Among military service \n",
      "members, athletes and bodybuilders it is also common to ingest dietary sports supplements \n",
      "intended to burn fat and increase performance, muscle mass or strength. As examples, 53% \n",
      "of active-duty US Army soldiers report using at least one dietary supplement per week (60), \n",
      "and 64% of college students participating in athletics use dietary supplements to enhance \n",
      "performance (61). The supplements are often proprietary blends of several supposedly \n",
      "natural ingredients. They are not without risk of adverse effects. In a recent review, it is \n",
      "estimated that the proportion of drug-induced liver injuries that are due to dietary \n",
      "Ronis et al.\n",
      "Page 6\n",
      "Annu Rev Pharmacol Toxicol. Author manuscript; available in PMC 2019 February 19.\n",
      "Author Manuscript\n",
      "Author Manuscript\n",
      "Author Manuscript\n",
      "Author Manuscript\n",
      "\n",
      "\n",
      "\n",
      "Nutrients 2020, 12, 2595\n",
      "7 of 13\n",
      " \n",
      "3.3. Training Goals \n",
      "The three most important training goals of the participating fitness center users were improving \n",
      "health, improving strength, and body shaping (Figure 2). Analysis by age showed obvious age effects \n",
      "for two training goals. Improving health was named by 59%, 60%, 75%, and 89% as a training goal \n",
      "among the four age groups beginning from the youngest to the oldest group. On the other hand, body \n",
      "shaping was named by 69%, 55%, 41%, and 17% among the four age groups.  \n",
      " \n",
      "Figure 2. Training goals. g: Indicates significant gender effect (p < 0.05). Multiple answers were \n",
      "possible. \n",
      "3.4. Reasons for Supplement Intake \n",
      "The three most important reasons to take supplements were muscle building (49%), improving \n",
      "health (47%), and improving sport-specific performance (28%) (Figure 3).  \n",
      "Figure 2. Training goals. g: Indicates signiﬁcant gender eﬀect (p < 0.05). Multiple answers were possible.\n",
      "3.4. Reasons for Supplement Intake\n",
      "\n",
      "\n",
      "\n",
      "Foods 2024, 13, 1424\n",
      "2 of 21\n",
      "and sports industry, evidence suggests that creatine can benefit not only athletes but also\n",
      "the elderly and the general population [6]. Branched-chain amino acids (BCAA) also offer\n",
      "a plethora of benefits for consumers. As explained by Sanz et al. [7], BCAAs are stored\n",
      "directly in muscles and serve as the raw materials needed to build new muscle. This\n",
      "contributes to the overall process of strengthening muscles and alleviating post-workout\n",
      "soreness. Consumers often integrate these supplements into their routines with the aim of\n",
      "optimizing the outcomes they wish to achieve and support overall well-being [1].\n",
      "The sports supplement industry makes for an impressive market share of nearly\n",
      "$12 billion in the health/wellness portfolio and is projected to be worth $24.4 billion\n",
      "by 2025. In a study by Burke [4], which investigated 20 published studies about the\n",
      "prevalence, methods, and reasons for supplement consumption, it is evident from the\n",
      "\n",
      "\n",
      "\n"
     ]
    }
   ],
   "source": [
    "similar_chunks = vector_store.search(query=question, search_type='similarity')\n",
    "\n",
    "for parts in similar_chunks:\n",
    "    print(parts.page_content)\n",
    "    print(\"\\n\\n\")"
   ]
  },
  {
   "cell_type": "code",
   "execution_count": 19,
   "metadata": {},
   "outputs": [],
   "source": [
    "retriever = vector_store.as_retriever(search_type=\"mmr\", search_kwargs = {'k': 3, 'fetch_k': 100, 'lambda_mult': 1})"
   ]
  },
  {
   "cell_type": "code",
   "execution_count": 20,
   "metadata": {},
   "outputs": [
    {
     "name": "stdout",
     "output_type": "stream",
     "text": [
      "caffeine, which is found in many sports and food supplements. Caffeine reduces perceived\n",
      "effort, minimizes fatigue and pain, and proves to be effective for endurance and high-\n",
      "intensity activities, which is the choice of consumers [4].\n",
      "Creatine monohydrate is another well-known supplement used to gain muscle mass\n",
      "and support performance and recovery. It is known not to increase fat mass and remains\n",
      "effective even when taken in recommended doses [5]. Despite its popularity in the fitness\n",
      "Foods 2024, 13, 1424. https://doi.org/10.3390/foods13091424\n",
      "https://www.mdpi.com/journal/foods\n",
      "\n",
      "\n",
      "\n",
      "market for weight-loss products, including dietary supplements. Among military service \n",
      "members, athletes and bodybuilders it is also common to ingest dietary sports supplements \n",
      "intended to burn fat and increase performance, muscle mass or strength. As examples, 53% \n",
      "of active-duty US Army soldiers report using at least one dietary supplement per week (60), \n",
      "and 64% of college students participating in athletics use dietary supplements to enhance \n",
      "performance (61). The supplements are often proprietary blends of several supposedly \n",
      "natural ingredients. They are not without risk of adverse effects. In a recent review, it is \n",
      "estimated that the proportion of drug-induced liver injuries that are due to dietary \n",
      "Ronis et al.\n",
      "Page 6\n",
      "Annu Rev Pharmacol Toxicol. Author manuscript; available in PMC 2019 February 19.\n",
      "Author Manuscript\n",
      "Author Manuscript\n",
      "Author Manuscript\n",
      "Author Manuscript\n",
      "\n",
      "\n",
      "\n",
      "Nutrients 2020, 12, 2595\n",
      "7 of 13\n",
      " \n",
      "3.3. Training Goals \n",
      "The three most important training goals of the participating fitness center users were improving \n",
      "health, improving strength, and body shaping (Figure 2). Analysis by age showed obvious age effects \n",
      "for two training goals. Improving health was named by 59%, 60%, 75%, and 89% as a training goal \n",
      "among the four age groups beginning from the youngest to the oldest group. On the other hand, body \n",
      "shaping was named by 69%, 55%, 41%, and 17% among the four age groups.  \n",
      " \n",
      "Figure 2. Training goals. g: Indicates significant gender effect (p < 0.05). Multiple answers were \n",
      "possible. \n",
      "3.4. Reasons for Supplement Intake \n",
      "The three most important reasons to take supplements were muscle building (49%), improving \n",
      "health (47%), and improving sport-specific performance (28%) (Figure 3).  \n",
      "Figure 2. Training goals. g: Indicates signiﬁcant gender eﬀect (p < 0.05). Multiple answers were possible.\n",
      "3.4. Reasons for Supplement Intake\n",
      "\n",
      "\n",
      "\n"
     ]
    }
   ],
   "source": [
    "similar_chunks = retriever.invoke(question)\n",
    "\n",
    "for parts in similar_chunks:\n",
    "    print(parts.page_content)\n",
    "    print(\"\\n\\n\")"
   ]
  },
  {
   "cell_type": "code",
   "execution_count": 21,
   "metadata": {},
   "outputs": [],
   "source": [
    "question = \"what is used to reduce weight?\"\n",
    "# question = \"what are side effects of supplements?\"\n",
    "# question = \"what are the benefits of supplements?\"\n",
    "# question = \"what are the benefits of BCAA supplements?\"\n",
    "try_data = retriever.invoke(question)"
   ]
  },
  {
   "cell_type": "markdown",
   "metadata": {},
   "source": [
    "## Better Answer Generation using retrieved documents and prompt"
   ]
  },
  {
   "cell_type": "code",
   "execution_count": 22,
   "metadata": {},
   "outputs": [],
   "source": [
    "from langchain import hub\n",
    "from langchain_core.output_parsers import StrOutputParser\n",
    "from langchain_core.runnables import RunnablePassthrough\n",
    "from langchain_core.prompts import ChatPromptTemplate\n",
    "\n",
    "from langchain_ollama import ChatOllama"
   ]
  },
  {
   "cell_type": "code",
   "execution_count": 23,
   "metadata": {},
   "outputs": [
    {
     "data": {
      "text/plain": [
       "AIMessage(content='How can I help you today?', additional_kwargs={}, response_metadata={'model': 'llama3.2:3b', 'created_at': '2025-01-16T09:17:35.848536Z', 'message': {'role': 'assistant', 'content': ''}, 'done_reason': 'stop', 'done': True, 'total_duration': 13946148100, 'load_duration': 11379824300, 'prompt_eval_count': 26, 'prompt_eval_duration': 1732000000, 'eval_count': 8, 'eval_duration': 826000000}, id='run-8a6fa8f9-d211-46f0-ba6a-54729b6b1807-0', usage_metadata={'input_tokens': 26, 'output_tokens': 8, 'total_tokens': 34})"
      ]
     },
     "execution_count": 23,
     "metadata": {},
     "output_type": "execute_result"
    }
   ],
   "source": [
    "model = ChatOllama(model=\"llama3.2:3b\", base_url=\"http://localhost:11434\")\n",
    "\n",
    "model.invoke('hi')"
   ]
  },
  {
   "cell_type": "code",
   "execution_count": 24,
   "metadata": {},
   "outputs": [],
   "source": [
    "prompt = hub.pull(\"rlm/rag-prompt\")"
   ]
  },
  {
   "cell_type": "code",
   "execution_count": 25,
   "metadata": {},
   "outputs": [
    {
     "data": {
      "text/plain": [
       "ChatPromptTemplate(input_variables=['context', 'question'], input_types={}, partial_variables={}, metadata={'lc_hub_owner': 'rlm', 'lc_hub_repo': 'rag-prompt', 'lc_hub_commit_hash': '50442af133e61576e74536c6556cefe1fac147cad032f4377b60c436e6cdcb6e'}, messages=[HumanMessagePromptTemplate(prompt=PromptTemplate(input_variables=['context', 'question'], input_types={}, partial_variables={}, template=\"You are an assistant for question-answering tasks. Use the following pieces of retrieved context to answer the question. If you don't know the answer, just say that you don't know. Use three sentences maximum and keep the answer concise.\\nQuestion: {question} \\nContext: {context} \\nAnswer:\"), additional_kwargs={})])"
      ]
     },
     "execution_count": 25,
     "metadata": {},
     "output_type": "execute_result"
    }
   ],
   "source": [
    "prompt"
   ]
  },
  {
   "cell_type": "markdown",
   "metadata": {},
   "source": [
    "### Creating the RAG chain"
   ]
  },
  {
   "cell_type": "code",
   "execution_count": 26,
   "metadata": {},
   "outputs": [],
   "source": [
    "def format_docs(similar_chunks):\n",
    "    return \"\\n\\n\".join([parts.page_content for parts in similar_chunks])\n",
    "\n",
    "# print(format_docs(similar_chunks))"
   ]
  },
  {
   "cell_type": "code",
   "execution_count": 27,
   "metadata": {},
   "outputs": [],
   "source": [
    "rag_chain = (\n",
    "    {\"context\": retriever|format_docs, \"question\": RunnablePassthrough()}\n",
    "    | prompt\n",
    "    | model\n",
    "    | StrOutputParser()\n",
    ")"
   ]
  },
  {
   "cell_type": "code",
   "execution_count": 30,
   "metadata": {},
   "outputs": [
    {
     "name": "stdout",
     "output_type": "stream",
     "text": [
      "Creatine monohydrate is used to gain muscle mass, along with other supplements that support performance and recovery. The most common reasons people take supplements are to build muscle, improve health, and enhance sport-specific performance. While caffeine can provide benefits for endurance and high-intensity activities, it is not primarily used to gain muscle mass.\n"
     ]
    }
   ],
   "source": [
    "question = \"what is used to gain muscle mass?\"\n",
    "# question = \"what is used to reduce weight?\"\n",
    "# question = \"what are side effects of supplements?\"\n",
    "# question = \"what are the benefits of supplements?\"\n",
    "# question = \"what are the benefits of BCAA supplements?\"\n",
    "\n",
    "# question = \"what is used to increase mass of the Earth?\"\n",
    "\n",
    "output = rag_chain.invoke(question)\n",
    "print(output)"
   ]
  },
  {
   "cell_type": "code",
   "execution_count": null,
   "metadata": {},
   "outputs": [],
   "source": []
  }
 ],
 "metadata": {
  "kernelspec": {
   "display_name": "ollama_env",
   "language": "python",
   "name": "python3"
  },
  "language_info": {
   "codemirror_mode": {
    "name": "ipython",
    "version": 3
   },
   "file_extension": ".py",
   "mimetype": "text/x-python",
   "name": "python",
   "nbconvert_exporter": "python",
   "pygments_lexer": "ipython3",
   "version": "3.12.4"
  }
 },
 "nbformat": 4,
 "nbformat_minor": 2
}
